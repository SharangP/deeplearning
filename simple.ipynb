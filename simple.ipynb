{
 "cells": [
  {
   "cell_type": "code",
   "execution_count": null,
   "metadata": {
    "collapsed": true
   },
   "outputs": [],
   "source": [
    "%load_ext autoreload\n",
    "%autoreload 2\n",
    "%matplotlib inline"
   ]
  },
  {
   "cell_type": "code",
   "execution_count": null,
   "metadata": {
    "collapsed": false
   },
   "outputs": [],
   "source": [
    "from __future__ import print_function\n",
    "\n",
    "import matplotlib.pyplot as plt\n",
    "import numpy as np\n",
    "import scipy.stats as stats\n",
    "\n",
    "from keras.layers import Dense, Activation\n",
    "from keras.models import Sequential\n",
    "from keras.utils import np_utils"
   ]
  },
  {
   "cell_type": "code",
   "execution_count": null,
   "metadata": {
    "collapsed": true
   },
   "outputs": [],
   "source": [
    "def normal(n, m, sigma, mu):\n",
    "    return sigma*np.random.randn(n, m) + mu\n",
    "\n",
    "def label(X, l):\n",
    "    return np.concatenate([X, l*np.ones((X.shape[0], 1))], 1)\n",
    "    \n",
    "def get_data_and_labels(X):\n",
    "    X_data = X[:, :-1]\n",
    "    X_labels = X[:, -1:]\n",
    "    return X_data, X_labels"
   ]
  },
  {
   "cell_type": "code",
   "execution_count": null,
   "metadata": {
    "collapsed": false
   },
   "outputs": [],
   "source": [
    "l1 = 0\n",
    "l2 = 1\n",
    "lambda1 = -1\n",
    "lambda2 = 1\n",
    "sigma1 = 1\n",
    "sigma2 = 1\n",
    "\n",
    "# training data\n",
    "n_tr = 1000\n",
    "X_tr1 = label(normal(n_tr, 1, sigma1, lambda1), l1)\n",
    "X_tr2 = label(normal(n_tr, 1, sigma2, lambda2), l2)\n",
    "X_tr = np.vstack((X_tr1, X_tr2))\n",
    "np.random.shuffle(X_tr)\n",
    "X_tr, y_tr = get_data_and_labels(X_tr)\n",
    "\n",
    "dimof_input = X_tr.shape[1]\n",
    "dimof_output = len(set(y_tr.flat))\n",
    "\n",
    "y_tr = np_utils.to_categorical(y_tr.astype(int), dimof_output)\n",
    "\n",
    "# test data\n",
    "n_ts = 1000\n",
    "X_ts1 = label(normal(n_ts, 1, sigma1, lambda1), l1)\n",
    "X_ts2 = label(normal(n_ts, 1, sigma2, lambda2), l2)\n",
    "X_ts = np.vstack((X_ts1, X_ts2))\n",
    "np.random.shuffle(X_ts)\n",
    "X_ts, y_ts = get_data_and_labels(X_ts)\n",
    "y_ts = np_utils.to_categorical(y_ts.astype(int), dimof_output)\n"
   ]
  },
  {
   "cell_type": "code",
   "execution_count": null,
   "metadata": {
    "collapsed": false
   },
   "outputs": [],
   "source": [
    "plt.hist(X_tr1[:,0], 20, color='b', alpha=.5)\n",
    "plt.hist(X_tr2[:,0], 20, color='g', alpha=.5)"
   ]
  },
  {
   "cell_type": "code",
   "execution_count": null,
   "metadata": {
    "collapsed": true
   },
   "outputs": [],
   "source": [
    "model = Sequential([\n",
    "        Dense(2, input_dim=1),\n",
    "    ])\n",
    "\n",
    "model.compile(loss='mse', optimizer='sgd')\n",
    "\n",
    "# Train\n",
    "model.fit(\n",
    "    X_tr, y_tr, validation_split=0.2,\n",
    ")\n",
    "\n",
    "\n",
    "loss = model.evaluate(X_tr, y_tr)\n",
    "print('metrics on training data')\n",
    "print('loss: ', loss)\n",
    "print()\n",
    "\n",
    "loss = model.evaluate(X_ts, y_ts)\n",
    "print('metrics on test data')\n",
    "print('loss: ', loss)\n",
    "print()"
   ]
  }
 ],
 "metadata": {
  "kernelspec": {
   "display_name": "Python 2",
   "language": "python",
   "name": "python2"
  },
  "language_info": {
   "codemirror_mode": {
    "name": "ipython",
    "version": 2
   },
   "file_extension": ".py",
   "mimetype": "text/x-python",
   "name": "python",
   "nbconvert_exporter": "python",
   "pygments_lexer": "ipython2",
   "version": "2.7.6"
  }
 },
 "nbformat": 4,
 "nbformat_minor": 0
}
